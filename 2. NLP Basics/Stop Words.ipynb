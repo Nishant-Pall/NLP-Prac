{
 "cells": [
  {
   "cell_type": "code",
   "execution_count": 1,
   "metadata": {},
   "outputs": [],
   "source": [
    "import spacy\n",
    "\n",
    "nlp = spacy.load('en_core_web_sm')"
   ]
  },
  {
   "cell_type": "code",
   "execution_count": 3,
   "metadata": {},
   "outputs": [
    {
     "name": "stdout",
     "output_type": "stream",
     "text": [
      "{'these', 'back', 'wherever', 'became', 'many', 'had', 'something', 'thereby', 'about', 'third', 'front', 'used', 'various', 'every', 'still', 'must', 'put', 'sometimes', 'see', 'together', 'same', 'because', 'anyhow', 'do', \"'m\", 'whereupon', 'no', '‘ve', 'a', 'indeed', 'are', 'fifty', 'both', 'to', 'hence', 'except', 'all', 'get', 'least', '’ve', '’ll', 'become', \"'re\", 'others', 'such', 'elsewhere', 'two', 'whence', 'unless', 'anything', 'onto', 'herein', 'ten', 'therein', '’m', 'mine', 'if', 'per', 'along', 'say', 'himself', 'there', 'somewhere', 'six', 'while', 'full', 'whose', 'could', 'one', 'after', 'three', 'hers', 'once', 'around', 'made', 'ourselves', 'then', 'n‘t', 'whereas', 'did', 'been', 'beyond', 'but', 'myself', 're', 'when', 'make', \"n't\", 'using', 'his', 'yourselves', 'everywhere', 'will', 'other', 'is', 'who', 'seems', 'bottom', 'several', 'we', 'whether', 'enough', 'less', 'besides', 'latter', 'off', 'none', 'show', 'more', 'thence', 'own', 'among', 'ca', 'so', 'amount', 'neither', 'my', 'am', 'former', 'part', 'thru', 'take', 'becomes', 'via', 'hereby', 'side', 'might', 'here', 'though', 'has', 'its', 'quite', 'with', 'please', 'and', '’re', '’s', 'our', 'you', \"'s\", 'this', 'fifteen', 'between', 'above', 'beforehand', 'as', 'five', 'very', 'anyone', 'however', 'next', 'sometime', 'give', 'nobody', 'seem', 'somehow', 'much', 'what', 'really', 'namely', '‘d', 'behind', 'always', 'another', 'should', 'toward', 'may', 'someone', 'being', 'n’t', 'yourself', 'under', 'rather', 'your', 'it', 'any', 'nine', 'at', 'some', 'since', 'further', 'whoever', 'cannot', 'beside', 'those', 'thereupon', 'almost', 'that', 'most', 'were', '‘re', 'wherein', 'therefore', 'she', 'also', 'across', 'be', 'whatever', 'often', 'than', \"'ll\", 'last', 'by', 'not', 'whenever', 'everyone', 'due', 'nowhere', '‘m', 'name', 'either', 'on', 'out', 'perhaps', 'over', 'eight', 'whither', 'hundred', \"'d\", 'does', 'sixty', 'can', 'their', 'never', 'before', 'seeming', 'alone', 'go', 'would', 'ever', 'her', 'again', 'move', \"'ve\", 'until', 'whereby', 'the', 'few', 'too', 'only', 'doing', 'regarding', '’d', 'which', 'done', 'from', 'without', 'whom', 'nor', 'ours', 'below', 'for', 'meanwhile', 'well', 'latterly', 'amongst', 'twelve', 'during', 'they', 'although', 'call', 'throughout', 'serious', 'hereupon', '‘s', 'towards', 'i', 'eleven', 'each', 'seemed', 'against', 'yours', 'otherwise', 'within', 'up', 'everything', 'afterwards', 'forty', 'down', 'even', 'itself', 'through', 'formerly', 'whereafter', 'yet', 'now', 'him', 'me', 'just', 'where', 'into', 'have', 'whole', 'moreover', 'nothing', 'hereafter', 'nevertheless', 'how', 'thereafter', 'mostly', 'becoming', 'us', 'else', 'herself', 'twenty', 'anyway', 'was', 'of', 'an', 'first', 'upon', 'them', 'why', 'noone', 'already', 'keep', '‘ll', 'four', 'he', 'themselves', 'thus', 'or', 'top', 'anywhere', 'empty', 'in'}\n"
     ]
    }
   ],
   "source": [
    "print(nlp.Defaults.stop_words)"
   ]
  },
  {
   "cell_type": "code",
   "execution_count": 4,
   "metadata": {},
   "outputs": [
    {
     "data": {
      "text/plain": [
       "326"
      ]
     },
     "execution_count": 4,
     "metadata": {},
     "output_type": "execute_result"
    }
   ],
   "source": [
    "len(nlp.Defaults.stop_words)"
   ]
  },
  {
   "cell_type": "code",
   "execution_count": 5,
   "metadata": {},
   "outputs": [
    {
     "data": {
      "text/plain": [
       "<spacy.lexeme.Lexeme at 0x1d9bf2374a8>"
      ]
     },
     "execution_count": 5,
     "metadata": {},
     "output_type": "execute_result"
    }
   ],
   "source": [
    "nlp.vocab['is']"
   ]
  },
  {
   "cell_type": "code",
   "execution_count": 6,
   "metadata": {},
   "outputs": [
    {
     "data": {
      "text/plain": [
       "True"
      ]
     },
     "execution_count": 6,
     "metadata": {},
     "output_type": "execute_result"
    }
   ],
   "source": [
    "nlp.vocab['is'].is_stop"
   ]
  },
  {
   "cell_type": "markdown",
   "metadata": {},
   "source": [
    "### To add a stop word"
   ]
  },
  {
   "cell_type": "code",
   "execution_count": 7,
   "metadata": {},
   "outputs": [],
   "source": [
    "# Add the word to the step of stop words, always use lowercase!\n",
    "nlp.Defaults.stop_words.add('btw')\n",
    "\n",
    "# Set the stop_word tag on the lexeme\n",
    "nlp.vocab['btw'].is_stop = True"
   ]
  },
  {
   "cell_type": "code",
   "execution_count": 8,
   "metadata": {},
   "outputs": [
    {
     "data": {
      "text/plain": [
       "327"
      ]
     },
     "execution_count": 8,
     "metadata": {},
     "output_type": "execute_result"
    }
   ],
   "source": [
    "len(nlp.Defaults.stop_words)"
   ]
  },
  {
   "cell_type": "markdown",
   "metadata": {},
   "source": [
    "### To remove a stop word"
   ]
  },
  {
   "cell_type": "code",
   "execution_count": 9,
   "metadata": {},
   "outputs": [],
   "source": [
    "nlp.Defaults.stop_words.remove('beyond')"
   ]
  },
  {
   "cell_type": "code",
   "execution_count": 10,
   "metadata": {},
   "outputs": [],
   "source": [
    "nlp.vocab['beyond'].is_stop = False"
   ]
  },
  {
   "cell_type": "code",
   "execution_count": null,
   "metadata": {},
   "outputs": [],
   "source": []
  }
 ],
 "metadata": {
  "kernelspec": {
   "display_name": "Python 3",
   "language": "python",
   "name": "python3"
  },
  "language_info": {
   "codemirror_mode": {
    "name": "ipython",
    "version": 3
   },
   "file_extension": ".py",
   "mimetype": "text/x-python",
   "name": "python",
   "nbconvert_exporter": "python",
   "pygments_lexer": "ipython3",
   "version": "3.7.7"
  }
 },
 "nbformat": 4,
 "nbformat_minor": 4
}
