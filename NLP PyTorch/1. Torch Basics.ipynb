{
 "cells": [
  {
   "cell_type": "code",
   "execution_count": 4,
   "metadata": {},
   "outputs": [],
   "source": [
    "def describe(x):\n",
    "    print(f\"Type: {x.type}\")\n",
    "    print(f\"Shape/size: {x.shape}\")\n",
    "    print(f\"Values: {x}\")"
   ]
  },
  {
   "cell_type": "code",
   "execution_count": 2,
   "metadata": {},
   "outputs": [],
   "source": [
    "import torch"
   ]
  },
  {
   "cell_type": "code",
   "execution_count": 5,
   "metadata": {},
   "outputs": [
    {
     "name": "stdout",
     "output_type": "stream",
     "text": [
      "Type: <built-in method type of Tensor object at 0x000002D78D421868>\n",
      "Shape/size: torch.Size([2, 3])\n",
      "Values: tensor([[0.0000e+00, 8.4490e-39, 1.6707e-07],\n",
      "        [2.5930e-09, 1.3109e-08, 2.1956e-04]])\n"
     ]
    }
   ],
   "source": [
    "describe(torch.Tensor(2,3))"
   ]
  },
  {
   "cell_type": "code",
   "execution_count": 6,
   "metadata": {},
   "outputs": [
    {
     "name": "stdout",
     "output_type": "stream",
     "text": [
      "Type: <built-in method type of Tensor object at 0x000002D78D4C1368>\n",
      "Shape/size: torch.Size([2, 3])\n",
      "Values: tensor([[0.5130, 0.5229, 0.3506],\n",
      "        [0.9963, 0.6880, 0.9266]])\n"
     ]
    }
   ],
   "source": [
    "describe(torch.rand(2,3))"
   ]
  },
  {
   "cell_type": "code",
   "execution_count": 7,
   "metadata": {},
   "outputs": [
    {
     "name": "stdout",
     "output_type": "stream",
     "text": [
      "Type: <built-in method type of Tensor object at 0x000002D78D6F9CC8>\n",
      "Shape/size: torch.Size([2, 3])\n",
      "Values: tensor([[-0.7874, -0.5163, -0.0198],\n",
      "        [-0.1243,  0.3140, -1.2744]])\n"
     ]
    }
   ],
   "source": [
    "describe(torch.randn(2,3))"
   ]
  },
  {
   "cell_type": "code",
   "execution_count": 9,
   "metadata": {},
   "outputs": [],
   "source": [
    "x = torch.ones(2,3)"
   ]
  },
  {
   "cell_type": "code",
   "execution_count": 10,
   "metadata": {},
   "outputs": [
    {
     "name": "stdout",
     "output_type": "stream",
     "text": [
      "Type: <built-in method type of Tensor object at 0x000002D78D6AA9A8>\n",
      "Shape/size: torch.Size([2, 3])\n",
      "Values: tensor([[1., 1., 1.],\n",
      "        [1., 1., 1.]])\n"
     ]
    }
   ],
   "source": [
    "describe(x)"
   ]
  },
  {
   "cell_type": "code",
   "execution_count": 11,
   "metadata": {},
   "outputs": [
    {
     "data": {
      "text/plain": [
       "tensor([[5., 5., 5.],\n",
       "        [5., 5., 5.]])"
      ]
     },
     "execution_count": 11,
     "metadata": {},
     "output_type": "execute_result"
    }
   ],
   "source": [
    "x.fill_(5)"
   ]
  },
  {
   "cell_type": "code",
   "execution_count": 12,
   "metadata": {},
   "outputs": [],
   "source": [
    "import numpy"
   ]
  },
  {
   "cell_type": "code",
   "execution_count": 13,
   "metadata": {},
   "outputs": [],
   "source": [
    "npy = numpy.random.rand(2,3)"
   ]
  },
  {
   "cell_type": "code",
   "execution_count": 14,
   "metadata": {},
   "outputs": [
    {
     "name": "stdout",
     "output_type": "stream",
     "text": [
      "Type: <built-in method type of Tensor object at 0x000002D78D7E7368>\n",
      "Shape/size: torch.Size([2, 3])\n",
      "Values: tensor([[0.4343, 0.1940, 0.9931],\n",
      "        [0.0307, 0.1739, 0.9864]], dtype=torch.float64)\n"
     ]
    }
   ],
   "source": [
    "describe(torch.from_numpy(npy))"
   ]
  },
  {
   "cell_type": "code",
   "execution_count": 15,
   "metadata": {},
   "outputs": [
    {
     "name": "stdout",
     "output_type": "stream",
     "text": [
      "Type: <built-in method type of Tensor object at 0x000002D78D4BEA48>\n",
      "Shape/size: torch.Size([2, 3])\n",
      "Values: tensor([[5.4655e+22, 2.0450e+23, 4.2052e-05],\n",
      "        [1.6779e+22, 5.2345e-11, 7.1450e+31]])\n"
     ]
    }
   ],
   "source": [
    "describe(torch.FloatTensor(2,3))"
   ]
  },
  {
   "cell_type": "code",
   "execution_count": 16,
   "metadata": {},
   "outputs": [],
   "source": [
    "x = x.long()"
   ]
  },
  {
   "cell_type": "code",
   "execution_count": 17,
   "metadata": {},
   "outputs": [
    {
     "name": "stdout",
     "output_type": "stream",
     "text": [
      "Type: <built-in method type of Tensor object at 0x000002D78D9EE548>\n",
      "Shape/size: torch.Size([2, 3])\n",
      "Values: tensor([[5, 5, 5],\n",
      "        [5, 5, 5]])\n"
     ]
    }
   ],
   "source": [
    "describe(x)"
   ]
  },
  {
   "cell_type": "code",
   "execution_count": 26,
   "metadata": {},
   "outputs": [],
   "source": [
    "x = torch.tensor([[1, 2, 3],[4, 5, 6]], dtype=torch.int64)"
   ]
  },
  {
   "cell_type": "code",
   "execution_count": 27,
   "metadata": {},
   "outputs": [
    {
     "name": "stdout",
     "output_type": "stream",
     "text": [
      "Type: <built-in method type of Tensor object at 0x000002D78D238F48>\n",
      "Shape/size: torch.Size([2, 3])\n",
      "Values: tensor([[1, 2, 3],\n",
      "        [4, 5, 6]])\n"
     ]
    }
   ],
   "source": [
    "describe(x)"
   ]
  },
  {
   "cell_type": "code",
   "execution_count": 28,
   "metadata": {},
   "outputs": [],
   "source": [
    "x = x.float()"
   ]
  },
  {
   "cell_type": "code",
   "execution_count": 29,
   "metadata": {},
   "outputs": [
    {
     "name": "stdout",
     "output_type": "stream",
     "text": [
      "Type: <built-in method type of Tensor object at 0x000002D78D7282C8>\n",
      "Shape/size: torch.Size([2, 3])\n",
      "Values: tensor([[1., 2., 3.],\n",
      "        [4., 5., 6.]])\n"
     ]
    }
   ],
   "source": [
    "describe(x)"
   ]
  },
  {
   "cell_type": "code",
   "execution_count": 30,
   "metadata": {},
   "outputs": [
    {
     "name": "stdout",
     "output_type": "stream",
     "text": [
      "Type: <built-in method type of Tensor object at 0x000002D78DB114A8>\n",
      "Shape/size: torch.Size([2, 3])\n",
      "Values: tensor([[ 2.,  4.,  6.],\n",
      "        [ 8., 10., 12.]])\n"
     ]
    }
   ],
   "source": [
    "describe(x+x)"
   ]
  },
  {
   "cell_type": "code",
   "execution_count": 31,
   "metadata": {},
   "outputs": [
    {
     "name": "stdout",
     "output_type": "stream",
     "text": [
      "Type: <built-in method type of Tensor object at 0x000002D78D429908>\n",
      "Shape/size: torch.Size([2, 3])\n",
      "Values: tensor([[ 2.,  4.,  6.],\n",
      "        [ 8., 10., 12.]])\n"
     ]
    }
   ],
   "source": [
    "describe(torch.add(x,x))"
   ]
  },
  {
   "cell_type": "code",
   "execution_count": 32,
   "metadata": {},
   "outputs": [
    {
     "name": "stdout",
     "output_type": "stream",
     "text": [
      "Type: <built-in method type of Tensor object at 0x000002D78D7054F8>\n",
      "Shape/size: torch.Size([2, 3])\n",
      "Values: tensor([[0., 0., 0.],\n",
      "        [0., 0., 0.]])\n"
     ]
    }
   ],
   "source": [
    "describe(torch.add(x,-x))"
   ]
  },
  {
   "cell_type": "code",
   "execution_count": 33,
   "metadata": {},
   "outputs": [
    {
     "name": "stdout",
     "output_type": "stream",
     "text": [
      "Type: <built-in method type of Tensor object at 0x000002D78D7282C8>\n",
      "Shape/size: torch.Size([2, 3])\n",
      "Values: tensor([[1., 2., 3.],\n",
      "        [4., 5., 6.]])\n"
     ]
    }
   ],
   "source": [
    "describe(x)"
   ]
  },
  {
   "cell_type": "code",
   "execution_count": 34,
   "metadata": {},
   "outputs": [],
   "source": [
    "x = torch.arange(6)"
   ]
  },
  {
   "cell_type": "code",
   "execution_count": 35,
   "metadata": {},
   "outputs": [
    {
     "name": "stdout",
     "output_type": "stream",
     "text": [
      "Type: <built-in method type of Tensor object at 0x000002D78D421818>\n",
      "Shape/size: torch.Size([6])\n",
      "Values: tensor([0, 1, 2, 3, 4, 5])\n"
     ]
    }
   ],
   "source": [
    "describe(x)"
   ]
  },
  {
   "cell_type": "code",
   "execution_count": 36,
   "metadata": {},
   "outputs": [],
   "source": [
    "x = x.view(2,3)"
   ]
  },
  {
   "cell_type": "code",
   "execution_count": 37,
   "metadata": {},
   "outputs": [
    {
     "name": "stdout",
     "output_type": "stream",
     "text": [
      "Type: <built-in method type of Tensor object at 0x000002D78D9E1868>\n",
      "Shape/size: torch.Size([2, 3])\n",
      "Values: tensor([[0, 1, 2],\n",
      "        [3, 4, 5]])\n"
     ]
    }
   ],
   "source": [
    "describe(x)"
   ]
  },
  {
   "cell_type": "code",
   "execution_count": 38,
   "metadata": {},
   "outputs": [
    {
     "name": "stdout",
     "output_type": "stream",
     "text": [
      "Type: <built-in method type of Tensor object at 0x000002D78DA3A458>\n",
      "Shape/size: torch.Size([3])\n",
      "Values: tensor([3, 5, 7])\n"
     ]
    }
   ],
   "source": [
    "describe(torch.sum(x, dim=0))"
   ]
  },
  {
   "cell_type": "code",
   "execution_count": 39,
   "metadata": {},
   "outputs": [
    {
     "name": "stdout",
     "output_type": "stream",
     "text": [
      "Type: <built-in method type of Tensor object at 0x000002D78D95C0E8>\n",
      "Shape/size: torch.Size([2])\n",
      "Values: tensor([ 3, 12])\n"
     ]
    }
   ],
   "source": [
    "describe(torch.sum(x, dim = 1))"
   ]
  },
  {
   "cell_type": "code",
   "execution_count": 46,
   "metadata": {},
   "outputs": [
    {
     "name": "stdout",
     "output_type": "stream",
     "text": [
      "Type: <built-in method type of Tensor object at 0x000002D78D741E08>\n",
      "Shape/size: torch.Size([3, 2])\n",
      "Values: tensor([[0, 3],\n",
      "        [1, 4],\n",
      "        [2, 5]])\n"
     ]
    }
   ],
   "source": [
    "describe(torch.transpose(x, 0, 1))"
   ]
  },
  {
   "cell_type": "code",
   "execution_count": 156,
   "metadata": {},
   "outputs": [],
   "source": [
    "x = torch.arange(6).view(2,3)"
   ]
  },
  {
   "cell_type": "code",
   "execution_count": 157,
   "metadata": {},
   "outputs": [
    {
     "name": "stdout",
     "output_type": "stream",
     "text": [
      "Type: <built-in method type of Tensor object at 0x000002D78DA29F48>\n",
      "Shape/size: torch.Size([2, 3])\n",
      "Values: tensor([[0, 1, 2],\n",
      "        [3, 4, 5]])\n"
     ]
    }
   ],
   "source": [
    "describe(x)"
   ]
  },
  {
   "cell_type": "code",
   "execution_count": 158,
   "metadata": {},
   "outputs": [
    {
     "name": "stdout",
     "output_type": "stream",
     "text": [
      "Type: <built-in method type of Tensor object at 0x000002D78D72C908>\n",
      "Shape/size: torch.Size([1, 2])\n",
      "Values: tensor([[0, 1]])\n"
     ]
    }
   ],
   "source": [
    "describe(x[:1, :2])"
   ]
  },
  {
   "cell_type": "code",
   "execution_count": 159,
   "metadata": {},
   "outputs": [
    {
     "name": "stdout",
     "output_type": "stream",
     "text": [
      "Type: <built-in method type of Tensor object at 0x000002D78DA45048>\n",
      "Shape/size: torch.Size([])\n",
      "Values: 2\n"
     ]
    }
   ],
   "source": [
    "describe(x[0,2])"
   ]
  },
  {
   "cell_type": "code",
   "execution_count": 170,
   "metadata": {},
   "outputs": [],
   "source": [
    "indices = torch.LongTensor([2])"
   ]
  },
  {
   "cell_type": "code",
   "execution_count": 171,
   "metadata": {},
   "outputs": [
    {
     "name": "stdout",
     "output_type": "stream",
     "text": [
      "Type: <built-in method type of Tensor object at 0x000002D78DA43408>\n",
      "Shape/size: torch.Size([1])\n",
      "Values: tensor([2])\n"
     ]
    }
   ],
   "source": [
    "describe(indices)"
   ]
  },
  {
   "cell_type": "code",
   "execution_count": 174,
   "metadata": {},
   "outputs": [
    {
     "name": "stdout",
     "output_type": "stream",
     "text": [
      "Type: <built-in method type of Tensor object at 0x000002D78D4C5C78>\n",
      "Shape/size: torch.Size([2, 1])\n",
      "Values: tensor([[2],\n",
      "        [5]])\n"
     ]
    }
   ],
   "source": [
    "describe(torch.index_select(x, dim=1 ,index=indices))"
   ]
  },
  {
   "cell_type": "code",
   "execution_count": 166,
   "metadata": {},
   "outputs": [
    {
     "name": "stdout",
     "output_type": "stream",
     "text": [
      "Type: <built-in method type of Tensor object at 0x000002D78D440958>\n",
      "Shape/size: torch.Size([2, 6])\n",
      "Values: tensor([[0, 1, 2, 0, 1, 2],\n",
      "        [3, 4, 5, 3, 4, 5]])\n"
     ]
    }
   ],
   "source": [
    "describe(torch.cat([x,x], dim = 1))"
   ]
  },
  {
   "cell_type": "code",
   "execution_count": 66,
   "metadata": {},
   "outputs": [
    {
     "name": "stdout",
     "output_type": "stream",
     "text": [
      "Type: <built-in method type of Tensor object at 0x000002D78DB5C048>\n",
      "Shape/size: torch.Size([2, 2, 3])\n",
      "Values: tensor([[[0, 1, 2],\n",
      "         [3, 4, 5]],\n",
      "\n",
      "        [[0, 1, 2],\n",
      "         [3, 4, 5]]])\n"
     ]
    }
   ],
   "source": [
    "describe(torch.stack([x,x]))"
   ]
  },
  {
   "cell_type": "code",
   "execution_count": 68,
   "metadata": {},
   "outputs": [
    {
     "name": "stdout",
     "output_type": "stream",
     "text": [
      "Type: <built-in method type of Tensor object at 0x000002D78D918E08>\n",
      "Shape/size: torch.Size([2, 2])\n",
      "Values: tensor([[ 5, 14],\n",
      "        [14, 50]])\n"
     ]
    }
   ],
   "source": [
    "describe(torch.mm(x,x.T))"
   ]
  },
  {
   "cell_type": "code",
   "execution_count": 69,
   "metadata": {},
   "outputs": [],
   "source": [
    "x = torch.ones(2,2, requires_grad = True)"
   ]
  },
  {
   "cell_type": "code",
   "execution_count": 70,
   "metadata": {},
   "outputs": [
    {
     "name": "stdout",
     "output_type": "stream",
     "text": [
      "Type: <built-in method type of Tensor object at 0x000002D78D4F5EA8>\n",
      "Shape/size: torch.Size([2, 2])\n",
      "Values: tensor([[1., 1.],\n",
      "        [1., 1.]], requires_grad=True)\n"
     ]
    }
   ],
   "source": [
    "describe(x)"
   ]
  },
  {
   "cell_type": "code",
   "execution_count": 79,
   "metadata": {},
   "outputs": [],
   "source": [
    "y = x + x + 3"
   ]
  },
  {
   "cell_type": "code",
   "execution_count": 80,
   "metadata": {},
   "outputs": [
    {
     "name": "stdout",
     "output_type": "stream",
     "text": [
      "Type: <built-in method type of Tensor object at 0x000002D78DA3A638>\n",
      "Shape/size: torch.Size([2, 2])\n",
      "Values: tensor([[5., 5.],\n",
      "        [5., 5.]], grad_fn=<AddBackward0>)\n"
     ]
    }
   ],
   "source": [
    "describe(y)"
   ]
  },
  {
   "cell_type": "code",
   "execution_count": 81,
   "metadata": {},
   "outputs": [
    {
     "name": "stdout",
     "output_type": "stream",
     "text": [
      "False\n"
     ]
    }
   ],
   "source": [
    "print(x.grad is None)"
   ]
  },
  {
   "cell_type": "code",
   "execution_count": 82,
   "metadata": {},
   "outputs": [],
   "source": [
    "z = y.mean()"
   ]
  },
  {
   "cell_type": "code",
   "execution_count": 83,
   "metadata": {},
   "outputs": [
    {
     "name": "stdout",
     "output_type": "stream",
     "text": [
      "Type: <built-in method type of Tensor object at 0x000002D78DA247C8>\n",
      "Shape/size: torch.Size([])\n",
      "Values: 5.0\n"
     ]
    }
   ],
   "source": [
    "describe(z)"
   ]
  },
  {
   "cell_type": "code",
   "execution_count": 84,
   "metadata": {},
   "outputs": [],
   "source": [
    "z.backward()"
   ]
  },
  {
   "cell_type": "code",
   "execution_count": 89,
   "metadata": {},
   "outputs": [
    {
     "name": "stdout",
     "output_type": "stream",
     "text": [
      "Type: <built-in method type of Tensor object at 0x000002D78DA247C8>\n",
      "Shape/size: torch.Size([])\n",
      "Values: 5.0\n"
     ]
    }
   ],
   "source": [
    "describe(z)"
   ]
  },
  {
   "cell_type": "code",
   "execution_count": 110,
   "metadata": {},
   "outputs": [],
   "source": [
    "x = torch.rand(3,3)"
   ]
  },
  {
   "cell_type": "code",
   "execution_count": 111,
   "metadata": {},
   "outputs": [
    {
     "data": {
      "text/plain": [
       "tensor([[0.1358, 0.2269, 0.3176],\n",
       "        [0.1695, 0.7402, 0.4977],\n",
       "        [0.6009, 0.7184, 0.0270]])"
      ]
     },
     "execution_count": 111,
     "metadata": {},
     "output_type": "execute_result"
    }
   ],
   "source": [
    "x.squeeze(0)"
   ]
  },
  {
   "cell_type": "code",
   "execution_count": 117,
   "metadata": {},
   "outputs": [
    {
     "data": {
      "text/plain": [
       "tensor([[0.1358, 0.2269, 0.3176],\n",
       "        [0.1695, 0.7402, 0.4977],\n",
       "        [0.6009, 0.7184, 0.0270]])"
      ]
     },
     "execution_count": 117,
     "metadata": {},
     "output_type": "execute_result"
    }
   ],
   "source": [
    "x.squeeze(0)"
   ]
  },
  {
   "cell_type": "code",
   "execution_count": 118,
   "metadata": {},
   "outputs": [],
   "source": [
    "x = torch.rand(5,3) * (7-3)"
   ]
  },
  {
   "cell_type": "code",
   "execution_count": 120,
   "metadata": {},
   "outputs": [
    {
     "data": {
      "text/plain": [
       "tensor([[3.5250, 6.3873, 3.3723],\n",
       "        [5.5428, 4.4480, 6.4266],\n",
       "        [6.3128, 4.3291, 4.8451],\n",
       "        [5.6264, 4.8943, 6.5023],\n",
       "        [5.1817, 6.2775, 5.1411]])"
      ]
     },
     "execution_count": 120,
     "metadata": {},
     "output_type": "execute_result"
    }
   ],
   "source": [
    "x+3"
   ]
  },
  {
   "cell_type": "code",
   "execution_count": 121,
   "metadata": {},
   "outputs": [],
   "source": [
    "x = torch.rand(3,3)"
   ]
  },
  {
   "cell_type": "code",
   "execution_count": 122,
   "metadata": {},
   "outputs": [
    {
     "data": {
      "text/plain": [
       "tensor([[-0.3327,  0.5562, -0.0177],\n",
       "        [ 0.7152,  0.0305, -1.5745],\n",
       "        [-0.8261,  0.1569, -0.7685]])"
      ]
     },
     "execution_count": 122,
     "metadata": {},
     "output_type": "execute_result"
    }
   ],
   "source": [
    "x.normal_()"
   ]
  },
  {
   "cell_type": "code",
   "execution_count": 123,
   "metadata": {},
   "outputs": [
    {
     "data": {
      "text/plain": [
       "tensor([[-0.3327,  0.5562, -0.0177],\n",
       "        [ 0.7152,  0.0305, -1.5745],\n",
       "        [-0.8261,  0.1569, -0.7685]])"
      ]
     },
     "execution_count": 123,
     "metadata": {},
     "output_type": "execute_result"
    }
   ],
   "source": [
    "x"
   ]
  },
  {
   "cell_type": "code",
   "execution_count": 124,
   "metadata": {},
   "outputs": [],
   "source": [
    "x = torch.Tensor([1,1,1,0,1])"
   ]
  },
  {
   "cell_type": "code",
   "execution_count": 126,
   "metadata": {},
   "outputs": [
    {
     "data": {
      "text/plain": [
       "tensor([[0],\n",
       "        [1],\n",
       "        [2],\n",
       "        [4]])"
      ]
     },
     "execution_count": 126,
     "metadata": {},
     "output_type": "execute_result"
    }
   ],
   "source": [
    "torch.nonzero(x)"
   ]
  },
  {
   "cell_type": "code",
   "execution_count": 133,
   "metadata": {},
   "outputs": [],
   "source": [
    "x = torch.rand(3,1)"
   ]
  },
  {
   "cell_type": "code",
   "execution_count": 134,
   "metadata": {},
   "outputs": [
    {
     "data": {
      "text/plain": [
       "tensor([[0.7754],\n",
       "        [0.3959],\n",
       "        [0.6027]])"
      ]
     },
     "execution_count": 134,
     "metadata": {},
     "output_type": "execute_result"
    }
   ],
   "source": [
    "x"
   ]
  },
  {
   "cell_type": "code",
   "execution_count": 135,
   "metadata": {},
   "outputs": [
    {
     "data": {
      "text/plain": [
       "tensor([[[0.7754],\n",
       "         [0.3959],\n",
       "         [0.6027]],\n",
       "\n",
       "        [[0.7754],\n",
       "         [0.3959],\n",
       "         [0.6027]],\n",
       "\n",
       "        [[0.7754],\n",
       "         [0.3959],\n",
       "         [0.6027]],\n",
       "\n",
       "        [[0.7754],\n",
       "         [0.3959],\n",
       "         [0.6027]]])"
      ]
     },
     "execution_count": 135,
     "metadata": {},
     "output_type": "execute_result"
    }
   ],
   "source": [
    "torch.stack([x,x,x,x])"
   ]
  },
  {
   "cell_type": "code",
   "execution_count": 136,
   "metadata": {},
   "outputs": [
    {
     "data": {
      "text/plain": [
       "tensor([[0.7754, 0.7754, 0.7754, 0.7754],\n",
       "        [0.3959, 0.3959, 0.3959, 0.3959],\n",
       "        [0.6027, 0.6027, 0.6027, 0.6027]])"
      ]
     },
     "execution_count": 136,
     "metadata": {},
     "output_type": "execute_result"
    }
   ],
   "source": [
    "x.expand(3,4)"
   ]
  },
  {
   "cell_type": "code",
   "execution_count": 138,
   "metadata": {},
   "outputs": [
    {
     "data": {
      "text/plain": [
       "tensor([[[1.6549, 1.3594, 1.6028, 1.1478],\n",
       "         [1.1855, 0.9202, 0.8705, 0.9369],\n",
       "         [1.7832, 1.5176, 1.7441, 1.3054],\n",
       "         [1.7754, 1.7427, 1.7502, 1.3393]],\n",
       "\n",
       "        [[1.5018, 1.2781, 0.5228, 0.4812],\n",
       "         [1.9968, 1.9048, 0.6118, 0.3843],\n",
       "         [2.6568, 2.0353, 1.0162, 0.8014],\n",
       "         [1.3995, 1.1533, 0.6835, 0.5961]],\n",
       "\n",
       "        [[1.4874, 1.6978, 1.7642, 2.0508],\n",
       "         [1.2484, 1.4260, 1.0982, 1.2463],\n",
       "         [0.9504, 1.0635, 0.9944, 1.1503],\n",
       "         [0.6234, 1.2602, 0.6877, 1.2680]]])"
      ]
     },
     "execution_count": 138,
     "metadata": {},
     "output_type": "execute_result"
    }
   ],
   "source": [
    "torch.bmm(torch.rand(3,4,5), torch.rand(3,5,4))"
   ]
  },
  {
   "cell_type": "code",
   "execution_count": 142,
   "metadata": {},
   "outputs": [
    {
     "data": {
      "text/plain": [
       "tensor([[[0.6004, 1.7837, 1.6496, 2.3260],\n",
       "         [0.6441, 2.0735, 1.4010, 2.7144],\n",
       "         [0.3150, 1.0439, 0.9765, 1.6151],\n",
       "         [0.5102, 1.6235, 0.9052, 2.0104]],\n",
       "\n",
       "        [[0.5616, 1.7374, 0.9266, 1.7686],\n",
       "         [0.4137, 1.2623, 1.0078, 1.6953],\n",
       "         [0.4320, 1.3581, 0.6407, 1.4461],\n",
       "         [0.5176, 1.6278, 1.0889, 2.0863]],\n",
       "\n",
       "        [[0.3864, 1.2111, 1.0273, 1.8211],\n",
       "         [0.7471, 2.3210, 1.5506, 2.8826],\n",
       "         [0.5508, 1.8074, 1.0441, 2.1704],\n",
       "         [0.5404, 1.5798, 1.1255, 1.5956]]])"
      ]
     },
     "execution_count": 142,
     "metadata": {},
     "output_type": "execute_result"
    }
   ],
   "source": [
    "a = torch.rand(3, 4, 5)\n",
    "b = torch.rand(5, 4)\n",
    "torch.bmm(a, b.expand(a.size(0), *b.size()))"
   ]
  },
  {
   "cell_type": "code",
   "execution_count": 140,
   "metadata": {},
   "outputs": [
    {
     "data": {
      "text/plain": [
       "tensor([[[0.7100, 0.2905, 0.0771, 0.8971, 0.7379],\n",
       "         [0.5479, 0.6645, 0.2608, 0.3122, 0.0673],\n",
       "         [0.8552, 0.7433, 0.7554, 0.7703, 0.2785],\n",
       "         [0.4541, 0.7287, 0.3093, 0.5308, 0.1232]],\n",
       "\n",
       "        [[0.2105, 0.8804, 0.7780, 0.8614, 0.0092],\n",
       "         [0.9740, 0.4743, 0.1083, 0.2189, 0.9534],\n",
       "         [0.2042, 0.9509, 0.6240, 0.0429, 0.2219],\n",
       "         [0.9859, 0.1636, 0.3454, 0.2983, 0.7941]],\n",
       "\n",
       "        [[0.1723, 0.6417, 0.0968, 0.3963, 0.2702],\n",
       "         [0.6628, 0.7696, 0.2761, 0.1509, 0.1684],\n",
       "         [0.6885, 0.9057, 0.9417, 0.9195, 0.6765],\n",
       "         [0.3113, 0.7531, 0.4717, 0.3319, 0.9580]]])"
      ]
     },
     "execution_count": 140,
     "metadata": {},
     "output_type": "execute_result"
    }
   ],
   "source": [
    "a"
   ]
  },
  {
   "cell_type": "code",
   "execution_count": 141,
   "metadata": {},
   "outputs": [
    {
     "data": {
      "text/plain": [
       "tensor([[0.0361, 0.2371, 0.3500, 0.5547],\n",
       "        [0.9741, 0.7679, 0.7570, 0.0903],\n",
       "        [0.8978, 0.0559, 0.1443, 0.5962],\n",
       "        [0.4092, 0.3096, 0.7988, 0.2525],\n",
       "        [0.6854, 0.4779, 0.7699, 0.6664]])"
      ]
     },
     "execution_count": 141,
     "metadata": {},
     "output_type": "execute_result"
    }
   ],
   "source": [
    "b"
   ]
  },
  {
   "cell_type": "code",
   "execution_count": null,
   "metadata": {},
   "outputs": [],
   "source": []
  }
 ],
 "metadata": {
  "kernelspec": {
   "display_name": "Python 3",
   "language": "python",
   "name": "python3"
  },
  "language_info": {
   "codemirror_mode": {
    "name": "ipython",
    "version": 3
   },
   "file_extension": ".py",
   "mimetype": "text/x-python",
   "name": "python",
   "nbconvert_exporter": "python",
   "pygments_lexer": "ipython3",
   "version": "3.7.7"
  }
 },
 "nbformat": 4,
 "nbformat_minor": 4
}
